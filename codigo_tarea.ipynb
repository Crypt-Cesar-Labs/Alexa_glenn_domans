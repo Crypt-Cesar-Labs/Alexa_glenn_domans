{
  "nbformat": 4,
  "nbformat_minor": 0,
  "metadata": {
    "colab": {
      "name": "codigo_tarea.ipynb",
      "provenance": [],
      "collapsed_sections": [],
      "authorship_tag": "ABX9TyPvgo+5o0358D6qdCWnok8h",
      "include_colab_link": true
    },
    "kernelspec": {
      "name": "python3",
      "display_name": "Python 3"
    }
  },
  "cells": [
    {
      "cell_type": "markdown",
      "metadata": {
        "id": "view-in-github",
        "colab_type": "text"
      },
      "source": [
        "<a href=\"https://colab.research.google.com/github/Crypt-Cesar-Labs/Alexa_glenn_domans/blob/main/codigo_tarea.ipynb\" target=\"_parent\"><img src=\"https://colab.research.google.com/assets/colab-badge.svg\" alt=\"Open In Colab\"/></a>"
      ]
    },
    {
      "cell_type": "code",
      "metadata": {
        "colab": {
          "base_uri": "https://localhost:8080/",
          "height": 622
        },
        "id": "_dHG8nfqHfcH",
        "outputId": "29b42f2a-7ea5-4b0d-a256-bdc46d1e0695"
      },
      "source": [
        "import cmath\n",
        "import math\n",
        "from matplotlib import pyplot as plt\n",
        "from sympy import exp\n",
        "from numpy import array, zeros\n",
        "\n",
        "#Declaramos las condiciones iniciales\n",
        "h = 0.0001\n",
        "ti = 0\n",
        "N = 50000\n",
        "yi = 0\n",
        "zi = 0\n",
        "#y = zeros(N)  #La funcion zeros() devuelve un array del tamaño y tipo indicados, inicializando sus valores con ceros\n",
        "#z = zeros(N)\n",
        "#t = zeros(N)\n",
        "\n",
        "#Declaramos los elementos masa - resorte - amortiguandor\n",
        "m = 0.29\n",
        "k = 7.03\n",
        "c = 24.39\n",
        "\n",
        "for i in range(N):\n",
        "  #Declaramos la ecuacion \n",
        "  Dz = -(m)*zi - (c)*yi + (k)\n",
        "  y[i] = yi + (h*zi)\n",
        "  z[i] = zi + (h*Dz)\n",
        "  ti = ti + h\n",
        "  t[i] = ti\n",
        "  yi = y[i]\n",
        "  zi = z[i]\n",
        "  #print(zi, yi)\n",
        "\n",
        "#print(t)\n",
        "#print(y)\n",
        "plt.plot(t,y)\n",
        "\n",
        "#Comprobamos si el sistema es estable o inestable\n",
        "if c>=0 and k>=0:\n",
        "  print(\"El sistema es estable\")\n",
        "  #Obtengo el factor de amortiguanto\n",
        "  Cs = c / (2*(math.sqrt(m*k))) #amortiguador/2*raiz de masa por el resorte\n",
        "  print(\"\\nFactor de amortiguamiento es\")\n",
        "  print(f\"Cs = {Cs}\")\n",
        "\n",
        "  #Evaluamos el caso del sistema\n",
        "  if Cs < 1 and Cs > 0:\n",
        "    print(\"\\nEl sistema es subamortiguado\")\n",
        "  elif Cs ==1:\n",
        "    print(\"\\nEl sistema es criticamente amortiguado\")\n",
        "  elif Cs > 1:\n",
        "    print(\"\\nEl sistema esta sobreamortiguado\")\n",
        "else:\n",
        "  print(\"\\nEl sistema es inestable\")\n",
        "\n",
        "#Obtenemos la frecuencia natural del sistema\n",
        "wn = math.sqrt(k/m)           #frecuencia natural \n",
        "print(\"\\nFrecuencia natural\")\n",
        "print(f\"Wn = {wn}\")\n",
        "\n",
        "#Obtengo la frecuencia amortiguada\n",
        "wd = wn * (cmath.sqrt(1- (Cs)**2))\n",
        "\n",
        "#Obtenemos la constante de tiempo\n",
        "tc = 1/(Cs * wn)\n",
        "print(\"\\nLa Constante de tiempo es\")\n",
        "print(f\"T = {tc}\")\n",
        "\n",
        "#El tiempo de estabilizacion es \n",
        "ts = 4 /(Cs * wn)\n",
        "print(\"\\nTiempo de estabilizacion\")\n",
        "print(f\"Ts = {ts}\")\n",
        "\n",
        "#Sobrepaso maximo\n",
        "Som = (1/k)*cmath.exp((-cmath.pi*Cs)/cmath.sqrt(1-(Cs)**2))\n",
        "print(\"\\nSobrepaso maximo\")\n",
        "print(Som)\n",
        "\n",
        "#Calculamos el tiempo pico \n",
        "tp = math.pi / wd * -1\n",
        "print(\"\\nTiempo pico\")\n",
        "print(f\"Tp = {tp}\")\n",
        "\n",
        "#Calculamos el tiempo de retardo delay\n",
        "td = (1 + (0.7 * Cs) / wn)"
      ],
      "execution_count": 48,
      "outputs": [
        {
          "output_type": "stream",
          "text": [
            "El sistema es estable\n",
            "\n",
            "Factor de amortiguamiento es\n",
            "Cs = 8.54092962068536\n",
            "\n",
            "El sistema esta sobreamortiguado\n",
            "\n",
            "Frecuencia natural\n",
            "Wn = 4.92355352467553\n",
            "\n",
            "La Constante de tiempo es\n",
            "T = 0.02378023780237802\n",
            "\n",
            "Tiempo de estabilizacion\n",
            "Ts = 0.09512095120951208\n",
            "\n",
            "Sobrepaso maximo\n",
            "(-0.14221384373075746-0.003094663588619299j)\n",
            "\n",
            "Tiempo pico\n",
            "Tp = 0.07522521180717308j\n"
          ],
          "name": "stdout"
        },
        {
          "output_type": "display_data",
          "data": {
            "image/png": "[encoded data removed]",
            "text/plain": [
              "<Figure size 432x288 with 1 Axes>"
            ]
          },
          "metadata": {
            "tags": [],
            "needs_background": "light"
          }
        }
      ]
    }
  ]
}